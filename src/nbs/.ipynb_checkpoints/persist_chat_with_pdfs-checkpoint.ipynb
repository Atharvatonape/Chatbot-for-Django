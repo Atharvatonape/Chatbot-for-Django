{
 "cells": [
  {
   "cell_type": "code",
   "execution_count": 1,
   "id": "573eea24-e444-4b26-a1fb-398fc1205cac",
   "metadata": {},
   "outputs": [
    {
     "name": "stdout",
     "output_type": "stream",
     "text": [
      "Requirement already satisfied: llama-index in /Users/A200298519/Desktop/MVP/django-chatbot/venv/lib/python3.12/site-packages (0.10.59)\n",
      "Requirement already satisfied: llama-index-vector-stores-upstash in /Users/A200298519/Desktop/MVP/django-chatbot/venv/lib/python3.12/site-packages (0.1.5)\n",
      "Requirement already satisfied: upstash-vector in /Users/A200298519/Desktop/MVP/django-chatbot/venv/lib/python3.12/site-packages (0.4.0)\n",
      "Requirement already satisfied: llama-index-agent-openai<0.3.0,>=0.1.4 in /Users/A200298519/Desktop/MVP/django-chatbot/venv/lib/python3.12/site-packages (from llama-index) (0.2.9)\n",
      "Requirement already satisfied: llama-index-cli<0.2.0,>=0.1.2 in /Users/A200298519/Desktop/MVP/django-chatbot/venv/lib/python3.12/site-packages (from llama-index) (0.1.13)\n",
      "Requirement already satisfied: llama-index-core==0.10.59 in /Users/A200298519/Desktop/MVP/django-chatbot/venv/lib/python3.12/site-packages (from llama-index) (0.10.59)\n",
      "Requirement already satisfied: llama-index-embeddings-openai<0.2.0,>=0.1.5 in /Users/A200298519/Desktop/MVP/django-chatbot/venv/lib/python3.12/site-packages (from llama-index) (0.1.11)\n",
      "Requirement already satisfied: llama-index-indices-managed-llama-cloud>=0.2.0 in /Users/A200298519/Desktop/MVP/django-chatbot/venv/lib/python3.12/site-packages (from llama-index) (0.2.7)\n",
      "Requirement already satisfied: llama-index-legacy<0.10.0,>=0.9.48 in /Users/A200298519/Desktop/MVP/django-chatbot/venv/lib/python3.12/site-packages (from llama-index) (0.9.48)\n",
      "Requirement already satisfied: llama-index-llms-openai<0.2.0,>=0.1.27 in /Users/A200298519/Desktop/MVP/django-chatbot/venv/lib/python3.12/site-packages (from llama-index) (0.1.27)\n",
      "Requirement already satisfied: llama-index-multi-modal-llms-openai<0.2.0,>=0.1.3 in /Users/A200298519/Desktop/MVP/django-chatbot/venv/lib/python3.12/site-packages (from llama-index) (0.1.8)\n",
      "Requirement already satisfied: llama-index-program-openai<0.2.0,>=0.1.3 in /Users/A200298519/Desktop/MVP/django-chatbot/venv/lib/python3.12/site-packages (from llama-index) (0.1.7)\n",
      "Requirement already satisfied: llama-index-question-gen-openai<0.2.0,>=0.1.2 in /Users/A200298519/Desktop/MVP/django-chatbot/venv/lib/python3.12/site-packages (from llama-index) (0.1.3)\n",
      "Requirement already satisfied: llama-index-readers-file<0.2.0,>=0.1.4 in /Users/A200298519/Desktop/MVP/django-chatbot/venv/lib/python3.12/site-packages (from llama-index) (0.1.32)\n",
      "Requirement already satisfied: llama-index-readers-llama-parse>=0.1.2 in /Users/A200298519/Desktop/MVP/django-chatbot/venv/lib/python3.12/site-packages (from llama-index) (0.1.6)\n",
      "Requirement already satisfied: PyYAML>=6.0.1 in /Users/A200298519/Desktop/MVP/django-chatbot/venv/lib/python3.12/site-packages (from llama-index-core==0.10.59->llama-index) (6.0.1)\n",
      "Requirement already satisfied: SQLAlchemy>=1.4.49 in /Users/A200298519/Desktop/MVP/django-chatbot/venv/lib/python3.12/site-packages (from SQLAlchemy[asyncio]>=1.4.49->llama-index-core==0.10.59->llama-index) (2.0.31)\n",
      "Requirement already satisfied: aiohttp<4.0.0,>=3.8.6 in /Users/A200298519/Desktop/MVP/django-chatbot/venv/lib/python3.12/site-packages (from llama-index-core==0.10.59->llama-index) (3.10.0)\n",
      "Requirement already satisfied: dataclasses-json in /Users/A200298519/Desktop/MVP/django-chatbot/venv/lib/python3.12/site-packages (from llama-index-core==0.10.59->llama-index) (0.6.7)\n",
      "Requirement already satisfied: deprecated>=1.2.9.3 in /Users/A200298519/Desktop/MVP/django-chatbot/venv/lib/python3.12/site-packages (from llama-index-core==0.10.59->llama-index) (1.2.14)\n",
      "Requirement already satisfied: dirtyjson<2.0.0,>=1.0.8 in /Users/A200298519/Desktop/MVP/django-chatbot/venv/lib/python3.12/site-packages (from llama-index-core==0.10.59->llama-index) (1.0.8)\n",
      "Requirement already satisfied: fsspec>=2023.5.0 in /Users/A200298519/Desktop/MVP/django-chatbot/venv/lib/python3.12/site-packages (from llama-index-core==0.10.59->llama-index) (2024.6.1)\n",
      "Requirement already satisfied: httpx in /Users/A200298519/Desktop/MVP/django-chatbot/venv/lib/python3.12/site-packages (from llama-index-core==0.10.59->llama-index) (0.27.0)\n",
      "Requirement already satisfied: nest-asyncio<2.0.0,>=1.5.8 in /Users/A200298519/Desktop/MVP/django-chatbot/venv/lib/python3.12/site-packages (from llama-index-core==0.10.59->llama-index) (1.6.0)\n",
      "Requirement already satisfied: networkx>=3.0 in /Users/A200298519/Desktop/MVP/django-chatbot/venv/lib/python3.12/site-packages (from llama-index-core==0.10.59->llama-index) (3.3)\n",
      "Requirement already satisfied: nltk<4.0.0,>=3.8.1 in /Users/A200298519/Desktop/MVP/django-chatbot/venv/lib/python3.12/site-packages (from llama-index-core==0.10.59->llama-index) (3.8.1)\n",
      "Requirement already satisfied: numpy<2.0.0 in /Users/A200298519/Desktop/MVP/django-chatbot/venv/lib/python3.12/site-packages (from llama-index-core==0.10.59->llama-index) (1.26.4)\n",
      "Requirement already satisfied: openai>=1.1.0 in /Users/A200298519/Desktop/MVP/django-chatbot/venv/lib/python3.12/site-packages (from llama-index-core==0.10.59->llama-index) (1.38.0)\n",
      "Requirement already satisfied: pandas in /Users/A200298519/Desktop/MVP/django-chatbot/venv/lib/python3.12/site-packages (from llama-index-core==0.10.59->llama-index) (2.2.2)\n",
      "Requirement already satisfied: pillow>=9.0.0 in /Users/A200298519/Desktop/MVP/django-chatbot/venv/lib/python3.12/site-packages (from llama-index-core==0.10.59->llama-index) (10.4.0)\n",
      "Requirement already satisfied: requests>=2.31.0 in /Users/A200298519/Desktop/MVP/django-chatbot/venv/lib/python3.12/site-packages (from llama-index-core==0.10.59->llama-index) (2.32.3)\n",
      "Requirement already satisfied: tenacity!=8.4.0,<9.0.0,>=8.2.0 in /Users/A200298519/Desktop/MVP/django-chatbot/venv/lib/python3.12/site-packages (from llama-index-core==0.10.59->llama-index) (8.5.0)\n",
      "Requirement already satisfied: tiktoken>=0.3.3 in /Users/A200298519/Desktop/MVP/django-chatbot/venv/lib/python3.12/site-packages (from llama-index-core==0.10.59->llama-index) (0.7.0)\n",
      "Requirement already satisfied: tqdm<5.0.0,>=4.66.1 in /Users/A200298519/Desktop/MVP/django-chatbot/venv/lib/python3.12/site-packages (from llama-index-core==0.10.59->llama-index) (4.66.5)\n",
      "Requirement already satisfied: typing-extensions>=4.5.0 in /Users/A200298519/Desktop/MVP/django-chatbot/venv/lib/python3.12/site-packages (from llama-index-core==0.10.59->llama-index) (4.12.2)\n",
      "Requirement already satisfied: typing-inspect>=0.8.0 in /Users/A200298519/Desktop/MVP/django-chatbot/venv/lib/python3.12/site-packages (from llama-index-core==0.10.59->llama-index) (0.9.0)\n",
      "Requirement already satisfied: wrapt in /Users/A200298519/Desktop/MVP/django-chatbot/venv/lib/python3.12/site-packages (from llama-index-core==0.10.59->llama-index) (1.16.0)\n",
      "Requirement already satisfied: anyio in /Users/A200298519/Desktop/MVP/django-chatbot/venv/lib/python3.12/site-packages (from httpx->llama-index-core==0.10.59->llama-index) (4.4.0)\n",
      "Requirement already satisfied: certifi in /Users/A200298519/Desktop/MVP/django-chatbot/venv/lib/python3.12/site-packages (from httpx->llama-index-core==0.10.59->llama-index) (2024.7.4)\n",
      "Requirement already satisfied: httpcore==1.* in /Users/A200298519/Desktop/MVP/django-chatbot/venv/lib/python3.12/site-packages (from httpx->llama-index-core==0.10.59->llama-index) (1.0.5)\n",
      "Requirement already satisfied: idna in /Users/A200298519/Desktop/MVP/django-chatbot/venv/lib/python3.12/site-packages (from httpx->llama-index-core==0.10.59->llama-index) (3.7)\n",
      "Requirement already satisfied: sniffio in /Users/A200298519/Desktop/MVP/django-chatbot/venv/lib/python3.12/site-packages (from httpx->llama-index-core==0.10.59->llama-index) (1.3.1)\n",
      "Requirement already satisfied: h11<0.15,>=0.13 in /Users/A200298519/Desktop/MVP/django-chatbot/venv/lib/python3.12/site-packages (from httpcore==1.*->httpx->llama-index-core==0.10.59->llama-index) (0.14.0)\n",
      "Requirement already satisfied: llama-cloud>=0.0.11 in /Users/A200298519/Desktop/MVP/django-chatbot/venv/lib/python3.12/site-packages (from llama-index-indices-managed-llama-cloud>=0.2.0->llama-index) (0.0.11)\n",
      "Requirement already satisfied: beautifulsoup4<5.0.0,>=4.12.3 in /Users/A200298519/Desktop/MVP/django-chatbot/venv/lib/python3.12/site-packages (from llama-index-readers-file<0.2.0,>=0.1.4->llama-index) (4.12.3)\n",
      "Requirement already satisfied: pypdf<5.0.0,>=4.0.1 in /Users/A200298519/Desktop/MVP/django-chatbot/venv/lib/python3.12/site-packages (from llama-index-readers-file<0.2.0,>=0.1.4->llama-index) (4.3.1)\n",
      "Requirement already satisfied: striprtf<0.0.27,>=0.0.26 in /Users/A200298519/Desktop/MVP/django-chatbot/venv/lib/python3.12/site-packages (from llama-index-readers-file<0.2.0,>=0.1.4->llama-index) (0.0.26)\n",
      "Requirement already satisfied: llama-parse>=0.4.0 in /Users/A200298519/Desktop/MVP/django-chatbot/venv/lib/python3.12/site-packages (from llama-index-readers-llama-parse>=0.1.2->llama-index) (0.4.9)\n",
      "Requirement already satisfied: aiohappyeyeballs>=2.3.0 in /Users/A200298519/Desktop/MVP/django-chatbot/venv/lib/python3.12/site-packages (from aiohttp<4.0.0,>=3.8.6->llama-index-core==0.10.59->llama-index) (2.3.4)\n",
      "Requirement already satisfied: aiosignal>=1.1.2 in /Users/A200298519/Desktop/MVP/django-chatbot/venv/lib/python3.12/site-packages (from aiohttp<4.0.0,>=3.8.6->llama-index-core==0.10.59->llama-index) (1.3.1)\n",
      "Requirement already satisfied: attrs>=17.3.0 in /Users/A200298519/Desktop/MVP/django-chatbot/venv/lib/python3.12/site-packages (from aiohttp<4.0.0,>=3.8.6->llama-index-core==0.10.59->llama-index) (24.1.0)\n",
      "Requirement already satisfied: frozenlist>=1.1.1 in /Users/A200298519/Desktop/MVP/django-chatbot/venv/lib/python3.12/site-packages (from aiohttp<4.0.0,>=3.8.6->llama-index-core==0.10.59->llama-index) (1.4.1)\n",
      "Requirement already satisfied: multidict<7.0,>=4.5 in /Users/A200298519/Desktop/MVP/django-chatbot/venv/lib/python3.12/site-packages (from aiohttp<4.0.0,>=3.8.6->llama-index-core==0.10.59->llama-index) (6.0.5)\n",
      "Requirement already satisfied: yarl<2.0,>=1.0 in /Users/A200298519/Desktop/MVP/django-chatbot/venv/lib/python3.12/site-packages (from aiohttp<4.0.0,>=3.8.6->llama-index-core==0.10.59->llama-index) (1.9.4)\n",
      "Requirement already satisfied: soupsieve>1.2 in /Users/A200298519/Desktop/MVP/django-chatbot/venv/lib/python3.12/site-packages (from beautifulsoup4<5.0.0,>=4.12.3->llama-index-readers-file<0.2.0,>=0.1.4->llama-index) (2.5)\n",
      "Requirement already satisfied: pydantic>=1.10 in /Users/A200298519/Desktop/MVP/django-chatbot/venv/lib/python3.12/site-packages (from llama-cloud>=0.0.11->llama-index-indices-managed-llama-cloud>=0.2.0->llama-index) (2.8.2)\n",
      "Requirement already satisfied: click in /Users/A200298519/Desktop/MVP/django-chatbot/venv/lib/python3.12/site-packages (from nltk<4.0.0,>=3.8.1->llama-index-core==0.10.59->llama-index) (8.1.7)\n",
      "Requirement already satisfied: joblib in /Users/A200298519/Desktop/MVP/django-chatbot/venv/lib/python3.12/site-packages (from nltk<4.0.0,>=3.8.1->llama-index-core==0.10.59->llama-index) (1.4.2)\n",
      "Requirement already satisfied: regex>=2021.8.3 in /Users/A200298519/Desktop/MVP/django-chatbot/venv/lib/python3.12/site-packages (from nltk<4.0.0,>=3.8.1->llama-index-core==0.10.59->llama-index) (2024.7.24)\n",
      "Requirement already satisfied: distro<2,>=1.7.0 in /Users/A200298519/Desktop/MVP/django-chatbot/venv/lib/python3.12/site-packages (from openai>=1.1.0->llama-index-core==0.10.59->llama-index) (1.9.0)\n",
      "Requirement already satisfied: charset-normalizer<4,>=2 in /Users/A200298519/Desktop/MVP/django-chatbot/venv/lib/python3.12/site-packages (from requests>=2.31.0->llama-index-core==0.10.59->llama-index) (3.3.2)\n",
      "Requirement already satisfied: urllib3<3,>=1.21.1 in /Users/A200298519/Desktop/MVP/django-chatbot/venv/lib/python3.12/site-packages (from requests>=2.31.0->llama-index-core==0.10.59->llama-index) (2.2.2)\n",
      "Requirement already satisfied: greenlet!=0.4.17 in /Users/A200298519/Desktop/MVP/django-chatbot/venv/lib/python3.12/site-packages (from SQLAlchemy[asyncio]>=1.4.49->llama-index-core==0.10.59->llama-index) (3.0.3)\n",
      "Requirement already satisfied: mypy-extensions>=0.3.0 in /Users/A200298519/Desktop/MVP/django-chatbot/venv/lib/python3.12/site-packages (from typing-inspect>=0.8.0->llama-index-core==0.10.59->llama-index) (1.0.0)\n",
      "Requirement already satisfied: marshmallow<4.0.0,>=3.18.0 in /Users/A200298519/Desktop/MVP/django-chatbot/venv/lib/python3.12/site-packages (from dataclasses-json->llama-index-core==0.10.59->llama-index) (3.21.3)\n",
      "Requirement already satisfied: python-dateutil>=2.8.2 in /Users/A200298519/Desktop/MVP/django-chatbot/venv/lib/python3.12/site-packages (from pandas->llama-index-core==0.10.59->llama-index) (2.9.0.post0)\n",
      "Requirement already satisfied: pytz>=2020.1 in /Users/A200298519/Desktop/MVP/django-chatbot/venv/lib/python3.12/site-packages (from pandas->llama-index-core==0.10.59->llama-index) (2024.1)\n",
      "Requirement already satisfied: tzdata>=2022.7 in /Users/A200298519/Desktop/MVP/django-chatbot/venv/lib/python3.12/site-packages (from pandas->llama-index-core==0.10.59->llama-index) (2024.1)\n",
      "Requirement already satisfied: packaging>=17.0 in /Users/A200298519/Desktop/MVP/django-chatbot/venv/lib/python3.12/site-packages (from marshmallow<4.0.0,>=3.18.0->dataclasses-json->llama-index-core==0.10.59->llama-index) (24.1)\n",
      "Requirement already satisfied: annotated-types>=0.4.0 in /Users/A200298519/Desktop/MVP/django-chatbot/venv/lib/python3.12/site-packages (from pydantic>=1.10->llama-cloud>=0.0.11->llama-index-indices-managed-llama-cloud>=0.2.0->llama-index) (0.7.0)\n",
      "Requirement already satisfied: pydantic-core==2.20.1 in /Users/A200298519/Desktop/MVP/django-chatbot/venv/lib/python3.12/site-packages (from pydantic>=1.10->llama-cloud>=0.0.11->llama-index-indices-managed-llama-cloud>=0.2.0->llama-index) (2.20.1)\n",
      "Requirement already satisfied: six>=1.5 in /Users/A200298519/Desktop/MVP/django-chatbot/venv/lib/python3.12/site-packages (from python-dateutil>=2.8.2->pandas->llama-index-core==0.10.59->llama-index) (1.16.0)\n",
      "Note: you may need to restart the kernel to use updated packages.\n"
     ]
    }
   ],
   "source": [
    "%pip install llama-index llama-index-vector-stores-upstash upstash-vector"
   ]
  },
  {
   "cell_type": "code",
   "execution_count": 2,
   "id": "d7fc932f-5528-48f7-949d-c1f24995d145",
   "metadata": {},
   "outputs": [],
   "source": [
    "import setup\n",
    "setup.init_django()"
   ]
  },
  {
   "cell_type": "code",
   "execution_count": 3,
   "id": "d3269596-4e8b-4483-8ad1-0fea23bdfa6e",
   "metadata": {},
   "outputs": [
    {
     "name": "stdout",
     "output_type": "stream",
     "text": [
      "Current working directory: /Users/A200298519/Desktop/MVP/django-chatbot/src\n"
     ]
    }
   ],
   "source": [
    "import os\n",
    "\n",
    "print(f\"Current working directory: {os.getcwd()}\")\n"
   ]
  },
  {
   "cell_type": "code",
   "execution_count": 4,
   "id": "564c3b9b-bc0d-4c26-8159-1cc14f6feb6a",
   "metadata": {},
   "outputs": [],
   "source": [
    "import helpers\n",
    "DJANGO_PDF_PATH = helpers.config('DJANGO_PDF_PATH',default=None, cast=str)"
   ]
  },
  {
   "cell_type": "code",
   "execution_count": 5,
   "id": "73a0f980-c7fd-4194-8684-8138635a4aa2",
   "metadata": {},
   "outputs": [],
   "source": [
    "django_pdf = \"data/django.pdf\""
   ]
  },
  {
   "cell_type": "code",
   "execution_count": 6,
   "id": "77029ccc-9050-46a9-9a01-1f280bb8a645",
   "metadata": {},
   "outputs": [],
   "source": [
    "from llama_index.core import VectorStoreIndex, SimpleDirectoryReader"
   ]
  },
  {
   "cell_type": "code",
   "execution_count": 7,
   "id": "43ae9ded-7d62-43a5-b523-c9c22735d180",
   "metadata": {},
   "outputs": [],
   "source": [
    "reader = SimpleDirectoryReader(input_files=[django_pdf])"
   ]
  },
  {
   "cell_type": "code",
   "execution_count": null,
   "id": "2ad0b6eb-a92f-4863-8c6b-5bd919ce2657",
   "metadata": {},
   "outputs": [],
   "source": [
    "import openai\n",
    "openai.api_key = helpers.config(\"OPEANAI_API_KEY\", default=None)"
   ]
  },
  {
   "cell_type": "code",
   "execution_count": 8,
   "id": "ab702033-cb9f-4336-81ba-c5fafe7833c9",
   "metadata": {},
   "outputs": [],
   "source": [
    "data = reader.load_data()"
   ]
  },
  {
   "cell_type": "code",
   "execution_count": null,
   "id": "45ed1f89-8623-42dd-a1bf-c625e568bdbb",
   "metadata": {},
   "outputs": [],
   "source": [
    "url = helpers.config(\"UPSTASH_VECTOR_URL\", default=None)\n",
    "token = helpers.config(\"UPSTASH_VECTOR_TOKEN\", default=None)"
   ]
  },
  {
   "cell_type": "code",
   "execution_count": null,
   "id": "6288f315-09b6-4b74-92a5-2476481e5ee8",
   "metadata": {},
   "outputs": [],
   "source": []
  },
  {
   "cell_type": "code",
   "execution_count": null,
   "id": "700ecd21-26c5-4aa9-a969-5daacb3bceb4",
   "metadata": {},
   "outputs": [],
   "source": []
  },
  {
   "cell_type": "code",
   "execution_count": 10,
   "id": "3fca9750-912a-4d46-a6a2-4bd47d356e89",
   "metadata": {},
   "outputs": [],
   "source": [
    "# index = VectorStoreIndex.from_documents(data)"
   ]
  },
  {
   "cell_type": "code",
   "execution_count": 11,
   "id": "8dbcb821-9d1d-4311-8020-e068371e5a55",
   "metadata": {},
   "outputs": [],
   "source": [
    "# query_engine = index.as_query_engine()"
   ]
  },
  {
   "cell_type": "code",
   "execution_count": 12,
   "id": "7584d1b3-d044-4192-a0e6-4820fd868857",
   "metadata": {},
   "outputs": [],
   "source": [
    "# r =  query_engine.query(\"Explain to me signals concept\")\n",
    "# print(r.response)"
   ]
  },
  {
   "cell_type": "code",
   "execution_count": null,
   "id": "2b7f7a89-b9eb-4448-957a-51945610bc68",
   "metadata": {},
   "outputs": [],
   "source": []
  }
 ],
 "metadata": {
  "kernelspec": {
   "display_name": "Python 3 (ipykernel)",
   "language": "python",
   "name": "python3"
  },
  "language_info": {
   "codemirror_mode": {
    "name": "ipython",
    "version": 3
   },
   "file_extension": ".py",
   "mimetype": "text/x-python",
   "name": "python",
   "nbconvert_exporter": "python",
   "pygments_lexer": "ipython3",
   "version": "3.12.2"
  }
 },
 "nbformat": 4,
 "nbformat_minor": 5
}
